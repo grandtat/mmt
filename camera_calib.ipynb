{
 "cells": [
  {
   "cell_type": "markdown",
   "metadata": {},
   "source": [
    "## Kamerakalibrierung mit OpenCV\n",
    "### Mit Hilfe eines Chessboard Musters\n",
    "- Bilder einlesen aus verzeichnis calib\n",
    "- Menge an Bildpunkten(imgpoints) und Menge an Weltpunkten(objpoints) initialisieren\n",
    "- Für jedes Einzelbild Chessboard detektieren\n",
    "- Bildpunkte & Weltpunkte speichern \n",
    "- (optional) erkannte Punkte anzeigen\n",
    "- Gleichungssystem lösen und Verzeichnungsparameter berechnen\n",
    "- Aktulalisierte Kameramatrix auf ein Bild anwenden und entzerren"
   ]
  },
  {
   "cell_type": "code",
   "execution_count": 1,
   "metadata": {},
   "outputs": [
    {
     "name": "stdout",
     "output_type": "stream",
     "text": [
      "0.4539405215706796 [[539.54466618   0.         334.65142382]\n",
      " [  0.         539.38145314 240.87797289]\n",
      " [  0.           0.           1.        ]] [[-0.28893663  0.11328943  0.0006099  -0.00074187 -0.03101715]]\n",
      "--------------\n",
      "[[443.63360854   0.         338.27548383]\n",
      " [  0.         439.34456121 241.75064326]\n",
      " [  0.           0.           1.        ]]\n"
     ]
    },
    {
     "data": {
      "text/plain": [
       "True"
      ]
     },
     "execution_count": 1,
     "metadata": {},
     "output_type": "execute_result"
    }
   ],
   "source": [
    "import numpy as np\n",
    "import cv2 as cv\n",
    "import glob\n",
    "# termination criteria\n",
    "criteria = (cv.TERM_CRITERIA_EPS + cv.TERM_CRITERIA_MAX_ITER, 30, 0.001)\n",
    "# prepare object points, like (0,0,0), (1,0,0), (2,0,0) ....,(6,5,0)\n",
    "objp = np.zeros((6*9,3), np.float32)\n",
    "objp[:,:2] = np.mgrid[0:9,0:6].T.reshape(-1,2)\n",
    "# Arrays to store object points and image points from all the images.\n",
    "objpoints = [] # 3d point in real world space\n",
    "imgpoints = [] # 2d points in image plane.\n",
    "images = glob.glob('calib/*.jpg')\n",
    "for fname in images:\n",
    "    img = cv.imread(fname)\n",
    "    gray = cv.cvtColor(img, cv.COLOR_BGR2GRAY)\n",
    "    # Find the chess board corners\n",
    "    ret, corners = cv.findChessboardCorners(gray, (9,6), None)\n",
    "    # If found, add object points, image points (after refining them)\n",
    "    if ret:\n",
    "        objpoints.append(objp)\n",
    "        corners2 = cv.cornerSubPix(gray,corners, (11,11), (-1,-1), criteria)\n",
    "        imgpoints.append(corners)\n",
    "        # Draw and display the corners\n",
    "        cv.drawChessboardCorners(img, (9,6), corners2, ret)\n",
    "        #cv.imshow('img', img)\n",
    "        #cv.waitKey(200)\n",
    "cv.destroyAllWindows()\n",
    "\n",
    "ret, mtx, dist, rvecs, tvecs = cv.calibrateCamera(objpoints, imgpoints, gray.shape[::-1], None, None)\n",
    "print(ret, mtx, dist)\n",
    "print(\"--------------\")\n",
    "\n",
    "img = cv.imread('calib/left12.jpg')\n",
    "h,  w = img.shape[:2]\n",
    "newcameramtx, roi = cv.getOptimalNewCameraMatrix(mtx, dist, (w,h), 1, (w,h))\n",
    "print(newcameramtx)\n",
    "# undistort\n",
    "dst = cv.undistort(img, mtx, dist, None, newcameramtx)\n",
    "cv.imwrite('undistort.png', dst)\n",
    "# crop the image\n",
    "x, y, w, h = roi\n",
    "dst = dst[y:y+h, x:x+w]\n",
    "cv.imwrite('calibresult.png', dst)"
   ]
  }
 ],
 "metadata": {
  "kernelspec": {
   "display_name": "venv (3.9.6)",
   "language": "python",
   "name": "python3"
  },
  "language_info": {
   "codemirror_mode": {
    "name": "ipython",
    "version": 3
   },
   "file_extension": ".py",
   "mimetype": "text/x-python",
   "name": "python",
   "nbconvert_exporter": "python",
   "pygments_lexer": "ipython3",
   "version": "3.9.6"
  }
 },
 "nbformat": 4,
 "nbformat_minor": 4
}
